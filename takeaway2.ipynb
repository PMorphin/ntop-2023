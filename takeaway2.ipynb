{
 "cells": [
  {
   "cell_type": "markdown",
   "id": "23408c5a-95a6-4641-8ad0-2973e929de29",
   "metadata": {},
   "source": [
    "# ntopconf 2023 - takeaway #2\n",
    "\n",
    "### Creating a csv file containing a dataset with legit and suspicious domains\n"
   ]
  },
  {
   "cell_type": "code",
   "execution_count": null,
   "id": "de51e876-8c37-4bc1-a310-81be47043f76",
   "metadata": {},
   "outputs": [],
   "source": [
    "import os\n",
    "import json\n",
    "\n",
    "from ntopng.ntopng import Ntopng\n",
    "\n",
    "username     = \"admin\"\n",
    "password     = \"admin1\"\n",
    "ntopng_url   = \"http://localhost:3000\"\n",
    "\n",
    "suspicious_dom = open(\"suspicious_domains.txt\",\"w\")\n",
    "\n",
    "try:\n",
    "\tmy_ntopng = Ntopng(username, password, None, ntopng_url)\n",
    "\tinterfaces_available = my_ntopng.get_interfaces_list()\n",
    "\t#for interface in interfaces_available:\n",
    "\t#\tprint (interface)\n",
    "\n",
    "\t# {'ifid': 1, 'name': 'ens33', 'ifname': 'ens33'}\n",
    "\t# {'ifid': 2, 'name': 'lo', 'ifname': 'lo'}\n",
    "\t# OR\n",
    "\t# {'ifname': 'dns_tunnelling.pcapng', 'name': 'dns_tunnelling.pcapng', 'ifid': 3}\n",
    "\n",
    "\tmy_interface = my_ntopng.get_interface(3)\n",
    "\ttraffic = my_interface.get_active_flows_paginated(1,500)\n",
    "\ttraffic_b = json.dumps(traffic, indent=4)\n",
    "\t#print (traffic_b)\n",
    "\n",
    "\tunique_info = []\n",
    "\tif 'data' in traffic:\n",
    "\t\tfor entry in traffic['data']:\n",
    "\t\t\tif ('DNS' in entry['protocol']['l7'] and entry['info'] not in unique_info):\n",
    "\t\t\t\tunique_info.append(entry['info'])\n",
    "\t\t\t\tprint(entry['info'])\n",
    "\t\t\t\tsuspicious_dom.write(entry['info']+',1\\n') # add 1\n",
    "                \n",
    "except ValueError as e:\n",
    "\tprint(e)\n",
    "\tos._exit(-1)"
   ]
  },
  {
   "cell_type": "markdown",
   "id": "47ff1e99-1313-42b3-935b-ef673b113186",
   "metadata": {},
   "source": [
    "#### Genereting legit domains"
   ]
  },
  {
   "cell_type": "code",
   "execution_count": null,
   "id": "55053061-71b7-4f41-b89f-7e66df6dcc9c",
   "metadata": {},
   "outputs": [],
   "source": [
    "file_subdomains = open('resources/most-common-subs-100.txt', 'r')\n",
    "file_domains = open('resources/alexa-top100.txt', 'r')\n",
    "file_legit_domains = open ('resources/legit_domains.txt', 'w')\n",
    "\n",
    "subdomains = file_subdomains.readlines()\n",
    "domains = file_domains.readlines()\n",
    "\n",
    "for s1 in subdomains:\n",
    "    for s2 in domains:\n",
    "        file_legit_domains.write(s1.strip() + '.' + s2.strip() + ',0\\n')\n",
    "        print(s1.strip() + '.' + s2.strip())        \n",
    "print (\"Done\")"
   ]
  },
  {
   "cell_type": "markdown",
   "id": "2f7c089c-d4fb-450c-9cbd-f6da5bdf6747",
   "metadata": {},
   "source": [
    "#### Create a single file 'dataset.csv' with legit and suspicious domains"
   ]
  },
  {
   "cell_type": "code",
   "execution_count": null,
   "id": "f452aca9-3008-4a5b-9e68-b6e364917c36",
   "metadata": {},
   "outputs": [],
   "source": [
    "files = ['resources/suspicious_domains.txt','resources/legit_domains.txt' ]\n",
    "\n",
    "with open ('resources/dataset.txt', 'w') as dataset:\n",
    "    for f in files:\n",
    "        with open (f) as ifile:\n",
    "            dataset.write(ifile.read())\n",
    "print (\"Done\")"
   ]
  }
 ],
 "metadata": {
  "kernelspec": {
   "display_name": "Python 3 (ipykernel)",
   "language": "python",
   "name": "python3"
  },
  "language_info": {
   "codemirror_mode": {
    "name": "ipython",
    "version": 3
   },
   "file_extension": ".py",
   "mimetype": "text/x-python",
   "name": "python",
   "nbconvert_exporter": "python",
   "pygments_lexer": "ipython3",
   "version": "3.10.12"
  }
 },
 "nbformat": 4,
 "nbformat_minor": 5
}
