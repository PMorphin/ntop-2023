{
 "cells": [
  {
   "cell_type": "markdown",
   "id": "988e6217-7d8e-46fc-9f24-a5766741e905",
   "metadata": {},
   "source": [
    "# ntopconf 2023 - takeaway #3\n",
    "\n",
    "### Let's write a small Python script to analyze our dataset with machine learning using [sklearn](https://scikit-learn.org/stable/)\n",
    "#### Example 1 - Analysis based on the domain length"
   ]
  },
  {
   "cell_type": "code",
   "execution_count": null,
   "id": "8cf2b0d1-c4dc-4b48-beac-51e3fb1a31cc",
   "metadata": {},
   "outputs": [],
   "source": [
    "%pip install scikit-learn"
   ]
  },
  {
   "cell_type": "code",
   "execution_count": 17,
   "id": "c249ac9b-592a-430f-99fc-92655375054c",
   "metadata": {},
   "outputs": [
    {
     "name": "stdout",
     "output_type": "stream",
     "text": [
      "Accuracy: 1.0\n",
      "Is the domain udcgnlxqnlgltzw91dccsihr5cgadasdadafu9aw4.exfiltration.test used for DNS tunneling? Yes\n",
      "Is the domain www.ntop.org used for DNS tunneling? No\n"
     ]
    }
   ],
   "source": [
    "import pandas as pd\n",
    "from sklearn.model_selection import train_test_split\n",
    "from sklearn.ensemble import RandomForestClassifier\n",
    "from sklearn.metrics import accuracy_score\n",
    "\n",
    "# Assume we have a dataset with two columns: 'domain' and 'label', where 'label' indicates if the domain is used for DNS tunneling (1) or not (0).\n",
    "data = pd.read_csv('resources/dataset.txt')\n",
    "\n",
    "# Extract features from the domain (for simplicity, we just use the domain length as a feature in this example)\n",
    "data['domain_length'] = data['domain'].apply(len)\n",
    "X = data[['domain_length']]\n",
    "y = data['label']\n",
    "\n",
    "# Split the data into training and test sets\n",
    "X_train, X_test, y_train, y_test = train_test_split(X, y, test_size=0.3, random_state=42)\n",
    "\n",
    "# Create and train a model\n",
    "model = RandomForestClassifier()\n",
    "model.fit(X_train.values, y_train)\n",
    "\n",
    "# Evaluate the model\n",
    "y_pred = model.predict(X_test.values)  \n",
    "print(f\"Accuracy: {accuracy_score(y_test, y_pred)}\")\n",
    "\n",
    "def is_dns_tunneling(domain: str, model):\n",
    "    length = len(domain)\n",
    "    prediction = model.predict([[length]])  \n",
    "    return bool(prediction[0])\n",
    "\n",
    "# Test\n",
    "test_domain = \"udcgnlxqnlgltzw91dccsihr5cgadasdadafu9aw4.exfiltration.test\"\n",
    "legit_domain = \"www.ntop.org\"\n",
    "print(f\"Is the domain {test_domain} used for DNS tunneling? {'Yes' if is_dns_tunneling(test_domain, model) else 'No'}\")\n",
    "print(f\"Is the domain {legit_domain} used for DNS tunneling? {'Yes' if is_dns_tunneling(legit_domain, model) else 'No'}\")"
   ]
  },
  {
   "cell_type": "code",
   "execution_count": 16,
   "id": "c796d0e7-c3d5-43ca-a1f9-17b3feac7c6c",
   "metadata": {},
   "outputs": [
    {
     "name": "stdout",
     "output_type": "stream",
     "text": [
      "Accuracy: 1.0\n",
      "Is the domain u9aw4.exfiltration.test used for DNS tunneling? No\n",
      "Is the domain www.ntop.org used for DNS tunneling? No\n"
     ]
    }
   ],
   "source": [
    "import pandas as pd\n",
    "from sklearn.model_selection import train_test_split\n",
    "from sklearn.ensemble import RandomForestClassifier\n",
    "from sklearn.metrics import accuracy_score\n",
    "\n",
    "# Assume we have a dataset with two columns: 'domain' and 'label', where 'label' indicates if the domain is used for DNS tunneling (1) or not (0).\n",
    "data = pd.read_csv('resources/dataset.txt')\n",
    "\n",
    "# Extract features from the domain (for simplicity, we just use the domain length as a feature in this example)\n",
    "data['domain_length'] = data['domain'].apply(len)\n",
    "X = data[['domain_length']]\n",
    "y = data['label']\n",
    "\n",
    "# Split the data into training and test sets\n",
    "X_train, X_test, y_train, y_test = train_test_split(X, y, test_size=0.3, random_state=42)\n",
    "\n",
    "# Create and train a model\n",
    "model = RandomForestClassifier()\n",
    "model.fit(X_train.values, y_train)\n",
    "\n",
    "# Evaluate the model\n",
    "y_pred = model.predict(X_test.values)  \n",
    "print(f\"Accuracy: {accuracy_score(y_test, y_pred)}\")\n",
    "\n",
    "def is_dns_tunneling(domain: str, model):\n",
    "    length = len(domain)\n",
    "    prediction = model.predict([[length]])  \n",
    "    return bool(prediction[0])\n",
    "\n",
    "# Test\n",
    "test_domain = \"u9aw4.exfiltration.test\"\n",
    "legit_domain = \"www.ntop.org\"\n",
    "print(f\"Is the domain {test_domain} used for DNS tunneling? {'Yes' if is_dns_tunneling(test_domain, model) else 'No'}\")\n",
    "print(f\"Is the domain {legit_domain} used for DNS tunneling? {'Yes' if is_dns_tunneling(legit_domain, model) else 'No'}\")"
   ]
  },
  {
   "cell_type": "markdown",
   "id": "50a053f2-b218-413d-be59-853b735f7ed1",
   "metadata": {},
   "source": [
    "## Why?\n",
    "\n",
    "#### Example 2 - Analysis based on the domain strings"
   ]
  },
  {
   "cell_type": "code",
   "execution_count": 18,
   "id": "946c13dd-51bf-4e4b-88bf-6f6473f53be4",
   "metadata": {},
   "outputs": [
    {
     "name": "stdout",
     "output_type": "stream",
     "text": [
      "Accuracy: 1.0\n",
      "Is the domain u9aw4.exfiltration.test used for DNS tunneling? Yes\n",
      "Is the domain www.ntop.org used for DNS tunneling? No\n"
     ]
    }
   ],
   "source": [
    "import numpy as np\n",
    "import pandas as pd\n",
    "from sklearn.model_selection import train_test_split\n",
    "from sklearn.ensemble import RandomForestClassifier\n",
    "from sklearn.metrics import accuracy_score\n",
    "from sklearn.feature_extraction.text import TfidfVectorizer\n",
    "\n",
    "# Read the dataset\n",
    "with open('resources/dataset_wo_headers.txt', 'r') as file:\n",
    "    lines = file.readlines()\n",
    "\n",
    "domains = []\n",
    "labels = []\n",
    "\n",
    "for line in lines:\n",
    "    try:\n",
    "        domain, label = line.strip().split(',')\n",
    "        domains.append(domain)\n",
    "        labels.append(int(label))\n",
    "    except ValueError:\n",
    "        continue\n",
    "\n",
    "df = pd.DataFrame({'domain': domains, 'is_tunneling': labels})\n",
    "\n",
    "# Convert the domain strings into a numerical representation using TF-IDF.\n",
    "# what is TF-IDF? -> https://monkeylearn.com/blog/what-is-tf-idf/\n",
    "vectorizer = TfidfVectorizer(max_features=500, analyzer='char', ngram_range=(1, 3))\n",
    "X = vectorizer.fit_transform(df['domain'])\n",
    "y = df['is_tunneling']\n",
    "\n",
    "X_train, X_test, y_train, y_test = train_test_split(X, y, test_size=0.2, random_state=42)\n",
    "\n",
    "model = RandomForestClassifier()\n",
    "model.fit(X_train, y_train)\n",
    "\n",
    "y_pred = model.predict(X_test)\n",
    "print(f\"Accuracy: {accuracy_score(y_test, y_pred)}\")\n",
    "\n",
    "def is_dns_tunneling(domain: str, model, vectorizer):\n",
    "    transformed_domain = vectorizer.transform([domain])\n",
    "    prediction = model.predict(transformed_domain)\n",
    "    return bool(prediction[0])\n",
    "\n",
    "# Test\n",
    "test_domain = \"u9aw4.exfiltration.test\"\n",
    "legit_domain = \"www.ntop.org\"\n",
    "print(f\"Is the domain {test_domain} used for DNS tunneling? {'Yes' if is_dns_tunneling(test_domain, model, vectorizer) else 'No'}\")\n",
    "print(f\"Is the domain {legit_domain} used for DNS tunneling? {'Yes' if is_dns_tunneling(legit_domain, model, vectorizer) else 'No'}\")"
   ]
  },
  {
   "cell_type": "markdown",
   "id": "fac048b1-3b79-475b-9b71-b5edb0eaeb0d",
   "metadata": {},
   "source": [
    "## Extra: since how long the domain is registered?"
   ]
  },
  {
   "cell_type": "code",
   "execution_count": 20,
   "id": "21739afd-ad64-4404-97fc-c82ca26598ca",
   "metadata": {},
   "outputs": [
    {
     "name": "stdout",
     "output_type": "stream",
     "text": [
      "Accuracy: 1.0\n",
      "Is the domain u9aw4.exfiltration.test used for DNS tunneling? Yes\n",
      "Is the domain www.ntop.org used for DNS tunneling? No\n",
      "Is the domain www.ntop.org a new domain? No\n"
     ]
    }
   ],
   "source": [
    "import whois\n",
    "from datetime import datetime, timedelta\n",
    "\n",
    "import numpy as np\n",
    "import pandas as pd\n",
    "from sklearn.model_selection import train_test_split\n",
    "from sklearn.ensemble import RandomForestClassifier\n",
    "from sklearn.metrics import accuracy_score\n",
    "from sklearn.feature_extraction.text import TfidfVectorizer\n",
    "\n",
    "days=5 # threshold to consider a domain suspicious\n",
    "\n",
    "def domain_recently_registered(domain_name):\n",
    "    try:\n",
    "        w = whois.whois(domain_name)\n",
    "        if w.creation_date:\n",
    "            # If there are multiple dates (happens sometimes), take the first one\n",
    "            if type(w.creation_date) is list:\n",
    "                creation_date = w.creation_date[0]\n",
    "            else:\n",
    "                creation_date = w.creation_date\n",
    "                \n",
    "            if type(creation_date) is str:\n",
    "                creation_date = datetime.strptime(creation_date, '%Y-%m-%d %H:%M:%S')\n",
    "            \n",
    "            today = datetime.now()\n",
    "            if today - creation_date <= timedelta(days):\n",
    "                return True\n",
    "    except whois.WhoisError:\n",
    "        print(f\"Error fetching WHOIS information for {domain_name}\")\n",
    "    except Exception as e:\n",
    "        print(f\"Unexpected error: {e}\")\n",
    "    return False\n",
    "\n",
    "def is_dns_tunneling(domain: str, model, vectorizer):\n",
    "    transformed_domain = vectorizer.transform([domain])\n",
    "    prediction = model.predict(transformed_domain)\n",
    "    return bool(prediction[0])\n",
    "\n",
    "\n",
    "with open('resources/dataset_wo_headers.txt', 'r') as file:\n",
    "    lines = file.readlines()\n",
    "\n",
    "domains = []\n",
    "labels = []\n",
    "\n",
    "for line in lines:\n",
    "    try:\n",
    "        domain, label = line.strip().split(',')\n",
    "        domains.append(domain)\n",
    "        labels.append(int(label))\n",
    "    except ValueError:\n",
    "        continue\n",
    "\n",
    "df = pd.DataFrame({'domain': domains, 'is_tunneling': labels})\n",
    "\n",
    "# Convert the domain strings into a numerical representation using TF-IDF.\n",
    "# what is TF-IDF? -> https://monkeylearn.com/blog/what-is-tf-idf/\n",
    "vectorizer = TfidfVectorizer(max_features=500, analyzer='char', ngram_range=(1, 3))\n",
    "X = vectorizer.fit_transform(df['domain'])\n",
    "y = df['is_tunneling']\n",
    "\n",
    "X_train, X_test, y_train, y_test = train_test_split(X, y, test_size=0.2, random_state=42)\n",
    "\n",
    "model = RandomForestClassifier()\n",
    "model.fit(X_train, y_train)\n",
    "\n",
    "y_pred = model.predict(X_test)\n",
    "print(f\"Accuracy: {accuracy_score(y_test, y_pred)}\")\n",
    "\n",
    "# Test\n",
    "test_domain = \"u9aw4.exfiltration.test\"\n",
    "legit_domain = \"www.ntop.org\"\n",
    "print(f\"Is the domain {test_domain} used for DNS tunneling? {'Yes' if is_dns_tunneling(test_domain, model, vectorizer) else 'No'}\")\n",
    "# not possible in this case because the domain exfiltration.test is not a public domain but a resolved host in my intranet\n",
    "# print(f\"Is the domain {test_domain} a new domain? {'Yes' if domain_recently_registered(test_domain) else 'No'}\")\n",
    "print(f\"Is the domain {legit_domain} used for DNS tunneling? {'Yes' if is_dns_tunneling(legit_domain, model, vectorizer) else 'No'}\")\n",
    "print(f\"Is the domain {legit_domain} a new domain? {'Yes' if domain_recently_registered(legit_domain) else 'No'}\")"
   ]
  },
  {
   "cell_type": "code",
   "execution_count": null,
   "id": "20f3aacf-f4f3-4ce1-aff5-c710dba0cb28",
   "metadata": {},
   "outputs": [],
   "source": []
  }
 ],
 "metadata": {
  "kernelspec": {
   "display_name": "Python 3 (ipykernel)",
   "language": "python",
   "name": "python3"
  },
  "language_info": {
   "codemirror_mode": {
    "name": "ipython",
    "version": 3
   },
   "file_extension": ".py",
   "mimetype": "text/x-python",
   "name": "python",
   "nbconvert_exporter": "python",
   "pygments_lexer": "ipython3",
   "version": "3.10.12"
  }
 },
 "nbformat": 4,
 "nbformat_minor": 5
}
